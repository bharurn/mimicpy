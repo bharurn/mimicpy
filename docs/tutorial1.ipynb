{
 "cells": [
  {
   "cell_type": "markdown",
   "metadata": {},
   "source": [
    "# Tutorial 1: Setting Up the Host\n",
    "\n",
    "MiMiCPy is a python wrapper for preparing and executing MiMiC runs. For details on installation and compatibility, please refer to https://github.com/bharurn/mimicpy.\n",
    "\n",
    "This is the first tutorial on how to get MiMiCPy running, and deals with setting up the host system.\n",
    "\n",
    "Before starting any runs, it is important to discuss the concept of the \"host\" in MiMiCPy. The host controls executiong of all jobs and commands, in essence it is a wrapper for a shell terminal. The host can be set up to run on the local machine, or on a remote machine.\n",
    "\n",
    "## Local Host\n",
    "\n",
    "When the MiMiCPy module is imported, a host is automatically started on the local machine, or `localhost`. The current host can be obtained by calling the `getHost()` function."
   ]
  },
  {
   "cell_type": "code",
   "execution_count": 1,
   "metadata": {},
   "outputs": [
    {
     "data": {
      "text/plain": [
       "<mimicpy.utils.shell.Local at 0x111ccf890>"
      ]
     },
     "execution_count": 1,
     "metadata": {},
     "output_type": "execute_result"
    }
   ],
   "source": [
    "import mimicpy\n",
    "mimicpy.getHost()"
   ]
  },
  {
   "cell_type": "markdown",
   "metadata": {},
   "source": [
    "The current working directory can be changed by calling `cd()` function."
   ]
  },
  {
   "cell_type": "code",
   "execution_count": 2,
   "metadata": {},
   "outputs": [],
   "source": [
    "mimicpy.getHost().cd('test', mkdir=True);"
   ]
  },
  {
   "cell_type": "markdown",
   "metadata": {},
   "source": [
    "Also loader commands can be given to the host, that will be executed each time a command is run. This is useful to add source/module commands to load the Gromacs and CPMD executables."
   ]
  },
  {
   "cell_type": "code",
   "execution_count": 3,
   "metadata": {},
   "outputs": [],
   "source": [
    "mimicpy.getHost().addLoaders('module load gromacs')"
   ]
  },
  {
   "cell_type": "markdown",
   "metadata": {},
   "source": [
    "All these can also be set by calling the `setHost()` function. The first argument is the current working directory to move to, and then a number of arguments for each loader command can be passed."
   ]
  },
  {
   "cell_type": "code",
   "execution_count": 4,
   "metadata": {},
   "outputs": [
    {
     "name": "stdout",
     "output_type": "stream",
     "text": [
      "test not found, creating new directory..\n",
      "Setting current directory to test..\n"
     ]
    }
   ],
   "source": [
    "mimicpy.setHost('test', 'module load gromacs')"
   ]
  },
  {
   "cell_type": "markdown",
   "metadata": {},
   "source": [
    "## Remote Host\n",
    " \n",
    "The real power of the host is when using the remote host feature. We can change the host to point to a remote server, and all further commands (eg., gmx, cpmd.x, etc.) will be executed on the remote server. This allows for execution of systems that support MiMiC but not python.\n",
    " \n",
    "To set the we again call the `setHost()` function, but this time passing a string of the format `xxxx:yyyy` as the directoy, where `xxxx` is the name of the server (given in the ssh config file) and `yyyy` is the working directory to move to. Loaders can also be passed to the remote host as well. "
   ]
  },
  {
   "cell_type": "code",
   "execution_count": 5,
   "metadata": {},
   "outputs": [
    {
     "name": "stdout",
     "output_type": "stream",
     "text": [
      "Setting remote machine server1 as host..\n",
      "Setting current directory to test..\n"
     ]
    }
   ],
   "source": [
    "mimicpy.setHost('server1:test', 'module load gromacs', 'module load obabel')"
   ]
  },
  {
   "cell_type": "code",
   "execution_count": 6,
   "metadata": {},
   "outputs": [
    {
     "data": {
      "text/plain": [
       "mimicpy.utils.shell.Remote"
      ]
     },
     "execution_count": 6,
     "metadata": {},
     "output_type": "execute_result"
    }
   ],
   "source": [
    "type(mimicpy.getHost())"
   ]
  },
  {
   "cell_type": "markdown",
   "metadata": {},
   "source": [
    "The paramiko python package will have to be installed to run commands remotely. Also, an ssh config file (~/.ssh/config) will have to written with details on the server address and SSH public key.\n",
    "\n",
    "All commands that can be run with the localhost can also be run by remote host. The only difference is that, once execution is done, it is important that the user closes host. This can be done using the below code:"
   ]
  },
  {
   "cell_type": "code",
   "execution_count": 7,
   "metadata": {},
   "outputs": [],
   "source": [
    "mimicpy.closeHost()"
   ]
  },
  {
   "cell_type": "markdown",
   "metadata": {},
   "source": [
    "Internally, this closes the SSH and SFTP connections to the remote server. The connection is automatically closed when Python performs garbage collection on the host, however it is always better to explictily close it.\n",
    "\n",
    "For a more extensive list of the functions available through host, please refer the documentation. However, in most cases directly interfacing with these would not be necessary as it is taken care of by MiMiCPy.\n",
    "\n",
    "## Setting the Enviorment\n",
    "\n",
    "After setting up the host, it also important to set the the path/name of the executable used in MiMiCPy using the `setEnv()` function. For example, below we set the Gromacs executable to be used as `gmx_mpi`."
   ]
  },
  {
   "cell_type": "code",
   "execution_count": 8,
   "metadata": {},
   "outputs": [],
   "source": [
    "mimicpy.setEnv(gmx='gmx_mpi')"
   ]
  },
  {
   "cell_type": "markdown",
   "metadata": {},
   "source": [
    "The following executable/paths are required for running MiMiC:\n",
    "\n",
    "- *gmx*: Gromacs executable, default is `gmx`\n",
    "- *cpmd*: CPMD executable, default is `cpmd.x`\n",
    "- *cpmd_pp*: Path to all CPMD pseudopotentials, default is `None`; a path should be explicilty set to run MiMiC/CPMD\n",
    "    \n",
    "The following are used only for preparing non-standard ligand topologies:    \n",
    "    \n",
    "- *gauss*: Gaussian executable, default is `g09`\n",
    "- *obabel*: OpenBable executable, default is `obabel`\n",
    "- *parmchk*: AmberTools paramchk executable, default is `parmchk2`\n",
    "- *antechamber*: AmberTools antechamber executable, default is `antechamber`\n",
    "- *tleap*: AmberTools tleap executable, default is `tleap`\n",
    "- *Acpype*: Acpype python script executable, default is `acpype`\n",
    "\n",
    "All these can be set using the `setEnv()` function."
   ]
  }
 ],
 "metadata": {
  "kernelspec": {
   "display_name": "Python 3",
   "language": "python",
   "name": "python3"
  },
  "language_info": {
   "codemirror_mode": {
    "name": "ipython",
    "version": 3
   },
   "file_extension": ".py",
   "mimetype": "text/x-python",
   "name": "python",
   "nbconvert_exporter": "python",
   "pygments_lexer": "ipython3",
   "version": "3.7.4"
  }
 },
 "nbformat": 4,
 "nbformat_minor": 2
}
