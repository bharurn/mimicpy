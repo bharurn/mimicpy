{
 "cells": [
  {
   "cell_type": "markdown",
   "metadata": {},
   "source": [
    "# Tutorial 2: Loading and MM Preparation\n",
    "\n",
    "MiMiCPy is a python wrapper for preparing and executing MiMiC runs. For details on installation and compatibility, please refer to https://github.com/bharurn/mimicpy.\n",
    "\n",
    "This is the second tutorial on how get MiMiCPy running, and deals with setting up the protein+ligand system. Please refer to the previous tutorial on setting up the host before reading this.\n",
    "\n",
    "## Loading Proteins\n",
    "\n",
    "Once the host is set-up, information about the system to be simulated needs to be given. Currently, only protein systems with/without ligands are supported. Loading a protein into MiMiCPy is as simple as just feeding it the PDB data. If the PDB data is already available in memory, it can be passed directly to the `mimicpy.Protein` class constructor as a string."
   ]
  },
  {
   "cell_type": "code",
   "execution_count": 1,
   "metadata": {},
   "outputs": [
    {
     "name": "stdout",
     "output_type": "stream",
     "text": [
      "Creating protein Test_Protein..\n",
      "Extracting water..\n",
      "Extracting amino acid residues..\n"
     ]
    }
   ],
   "source": [
    "import mimicpy\n",
    "pdb = (\"ATOM      1  N   HIS A   1      49.668  24.248  10.436  1.00 25.00           N\\n\"\n",
    "    \"ATOM      2  CA  HIS A   1      50.197  25.578  10.784  1.00 16.00           C\\n\"\n",
    "    \"ATOM      3  C   HIS A   1      49.169  26.701  10.917  1.00 16.00           C\\n\"\n",
    "    \"ATOM      4  O   HIS A   1      48.241  26.524  11.749  1.00 16.00           O\\n\"\n",
    "    \"ATOM      5  CB  HIS A   1      51.312  26.048   9.843  1.00 16.00           C\\n\"\n",
    "    \"ATOM      6  CG  HIS A   1      50.958  26.068   8.340  1.00 16.00           C\\n\"\n",
    "    \"ATOM      7  ND1 HIS A   1      49.636  26.144   7.860  1.00 16.00           N\\n\"\n",
    "    \"ATOM      8  CD2 HIS A   1      51.797  26.043   7.286  1.00 16.00           C\\n\"\n",
    "    \"ATOM      9  CE1 HIS A   1      49.691  26.152   6.454  1.00 17.00           C\\n\"\n",
    "    \"ATOM     10  NE2 HIS A   1      51.046  26.090   6.098  1.00 17.00           N\\n\")\n",
    "prt = mimicpy.Protein(pdb, 'Test_Protein')"
   ]
  },
  {
   "cell_type": "markdown",
   "metadata": {},
   "source": [
    "Here pdb is the PDB string, and the second parameter is the name of the protein used soley for book-keeping purposes. Only amino acid residues and water molecules are extracted. These can be accessed from `prt.pdb` and `prt.water`."
   ]
  },
  {
   "cell_type": "code",
   "execution_count": 2,
   "metadata": {},
   "outputs": [
    {
     "name": "stdout",
     "output_type": "stream",
     "text": [
      "TITLE     Test_Protein\n",
      "ATOM      1  N   HIS A   1      49.668  24.248  10.436  1.00 25.00           N\n",
      "ATOM      2  CA  HIS A   1      50.197  25.578  10.784  1.00 16.00           C\n",
      "ATOM      3  C   HIS A   1      49.169  26.701  10.917  1.00 16.00           C\n",
      "ATOM      4  O   HIS A   1      48.241  26.524  11.749  1.00 16.00           O\n",
      "ATOM      5  CB  HIS A   1      51.312  26.048   9.843  1.00 16.00           C\n",
      "ATOM      6  CG  HIS A   1      50.958  26.068   8.340  1.00 16.00           C\n",
      "ATOM      7  ND1 HIS A   1      49.636  26.144   7.860  1.00 16.00           N\n",
      "ATOM      8  CD2 HIS A   1      51.797  26.043   7.286  1.00 16.00           C\n",
      "ATOM      9  CE1 HIS A   1      49.691  26.152   6.454  1.00 17.00           C\n",
      "ATOM     10  NE2 HIS A   1      51.046  26.090   6.098  1.00 17.00           N\n",
      "\n"
     ]
    }
   ],
   "source": [
    "print(prt.pdb)"
   ]
  },
  {
   "cell_type": "markdown",
   "metadata": {},
   "source": [
    "In most cases, the PDB will need to be loaded from file. This can be done using the `fromFile()` function."
   ]
  },
  {
   "cell_type": "code",
   "execution_count": 3,
   "metadata": {},
   "outputs": [
    {
     "name": "stdout",
     "output_type": "stream",
     "text": [
      "test.pdb found!\n",
      "Creating protein test..\n",
      "Extracting water..\n",
      "Extracting amino acid residues..\n"
     ]
    }
   ],
   "source": [
    "prt = mimicpy.Protein.fromFile('test.pdb')"
   ]
  },
  {
   "cell_type": "markdown",
   "metadata": {},
   "source": [
    "## Loading Ligands\n",
    "\n",
    "### Standard Ligands\n",
    "\n",
    "Loading proteins from PDB files are simple enough, but what if your system consists of ligands as well? Standard ligands, i.e., ligands that contain residues for which the topology information is available in the force field being applied, are simple to add. For example, glycerol is supported by the Amber force fiedl in Gromacs. Oly SDF data from the RCSB PDB database is supported as these provide accurate atom name, bonding, and other information. We can load it from either from an SDF file or SDF data in memory."
   ]
  },
  {
   "cell_type": "code",
   "execution_count": 4,
   "metadata": {},
   "outputs": [
    {
     "name": "stdout",
     "output_type": "stream",
     "text": [
      "Creating standard ligand from glycerol.sdf..\n",
      "Cleaning sdf..\n",
      "Converting to pdb using Openbabel\n",
      "Assigning correct atom names..\n",
      "Assigning correct chain IDs..\n"
     ]
    }
   ],
   "source": [
    "glyc = mimicpy.StdLigand.fromFile('glycerol.sdf') # mimicpy.fromBlock(sdf) to load from sdf string in memory"
   ]
  },
  {
   "cell_type": "markdown",
   "metadata": {},
   "source": [
    "Since, standard ligands can be handeled by Gromacs safely (protonation, topology generation, etc.) no extra work is required. Openbable is used to convert the SDF into a PDB, and it is cleaned up. Also, the atomic symbols are read for each atom; this will be used in creating the QM input file.\n",
    "\n",
    "The actual PDB data generated can be viewed from `glyc.pdb`. The ligand cannow be added to our protein."
   ]
  },
  {
   "cell_type": "code",
   "execution_count": 5,
   "metadata": {},
   "outputs": [
    {
     "name": "stdout",
     "output_type": "stream",
     "text": [
      "Adding standard ligand GOL to Test_Protein..\n"
     ]
    }
   ],
   "source": [
    "prt.addLigand(glyc)"
   ]
  },
  {
   "cell_type": "markdown",
   "metadata": {},
   "source": [
    "### Non-Standard Ligands\n",
    "\n",
    "Non Standard Ligands are small molecules for which the force field information is not available. So, the protonation, topology generation will have to be done by MiMiCPy. This can be done by using the `mimicpy.NonStdLigand` class "
   ]
  },
  {
   "cell_type": "code",
   "execution_count": 6,
   "metadata": {},
   "outputs": [
    {
     "name": "stdout",
     "output_type": "stream",
     "text": [
      "Creating non standard ligand from ICT.sdf..\n",
      "Cleaning sdf..\n",
      "Converting to pdb using Openbabel\n",
      "Adding hydrogens at pH=7.5\n",
      "Assigning correct atom names..\n",
      "Assigning correct chain IDs..\n",
      "Generating topology for the ligand..\n",
      "ICT.prep found!\n",
      "Running AmberTools parmchk on ICT.prep..\n",
      "Output saved to params.frcmod..\n",
      "Running AmberTools LEaP..\n",
      "Output saved to ICT.prmtop and ICT.inpcrd..\n",
      "Converting to Gromacs topology using Acpype..\n",
      "Output saved to ICT_GMX.gro and ICT_GMX.top..\n",
      "Cleaning Acpype output..\n",
      "Renaming atoms to avoid conflict..\n",
      "Writing position restraint data..\n",
      "Matching atom order in pdb to itp..\n",
      "Reading itp atoms..\n",
      "Renumbering pdb atoms..\n",
      "Sorting pdb atoms..\n"
     ]
    }
   ],
   "source": [
    "ict = mimicpy.NonStdLigand.fromFile('ICT.sdf', pH=7.5) # fromBlock() for loading SDF from memory"
   ]
  },
  {
   "cell_type": "markdown",
   "metadata": {},
   "source": [
    "As can be seen from the output, there are a lot more steps involved in handling non-standard ligands. Broadly, it is a three step process:\n",
    "\n",
    "- Protonation: The SDF file is read and protonated at the given pH (default 7) using OpenBabel. The PDB file is cleaned and atomic symbols are read as in the case of standard ligands.\n",
    "- Topology: The topology (.itp Gromacs file) is generated. Currently, only the Amber force field is supported. The `ChemCompId` tag in the SDF file is taken as the molecule name, and Amber prep and/or frcmod files with this name is searched in the current directory. Using the programs available from AmberTools (parmchk and tleap), the Amber topologies are generated which are then converted to Gromacs topologies using Acpype. The position restratin file for the ligand is also written.\n",
    "- Final clean up: This includes, among other steps, reordering the atoms in the pdb and itp to match.\n",
    "\n",
    "If a prep file is not available for a molecules, it can be generated by performing a Gaussian HF/DFT minimization to the molecule and then using AmberTools Antechamber to generate the charges (using RESP scheme) and prep. Also, if the prep file has different atom names to the one in the PDB, a conversion map in the form of a python dictonary can be provided `fromFile(sdf, prep2pdb={'C1':'CA', 'H1':HA'})`. For more details on utility functions like these, please refer to the documentation.\n",
    "\n",
    "The generated pdb and itp data can be checked for debugging."
   ]
  },
  {
   "cell_type": "code",
   "execution_count": 7,
   "metadata": {
    "scrolled": true
   },
   "outputs": [
    {
     "name": "stdout",
     "output_type": "stream",
     "text": [
      "HETATM    1   O1 ICT A   1      56.308 -33.800  17.235  1.00  0.00           O  \n",
      "HETATM    2   C1 ICT A   1      55.564 -34.058  18.281  1.00  0.00           C  \n",
      "HETATM    3   O2 ICT A   1      55.359 -35.162  18.693  1.00  0.00           O1-\n",
      "HETATM    4   C2 ICT A   1      54.974 -32.763  18.936  1.00  0.00           C  \n",
      "HETATM    5   O3 ICT A   1      53.871 -28.270  19.456  1.00  0.00           O  \n",
      "HETATM    6   H2 ICT A   1      53.453 -33.722  19.735  1.00  0.00           H  \n"
     ]
    }
   ],
   "source": [
    "print(ict.pdb[:485])"
   ]
  },
  {
   "cell_type": "code",
   "execution_count": 8,
   "metadata": {},
   "outputs": [
    {
     "name": "stdout",
     "output_type": "stream",
     "text": [
      "\n",
      "\n",
      "[ atomtypes ]\n",
      ";name   bond_type     mass     charge   ptype   sigma         epsilon       Amb\n",
      " ICT_o       ICT_o          0.00000  0.00000   A     2.95992e-01   8.78640e-01 ; 1.66  0.2100\n",
      " ICT_c       ICT_c          0.00000  0.00000   A     3.39967e-01   3.59824e-01 ; 1.91  0.0860\n",
      " ICT_c3       ICT_c3          0.00000  0.00000   A     3.39967e-01   4.57730e-01 ; 1.91  0.1094\n",
      " ICT_oh       ICT_oh          0.00000  0.00000   A     3.06647e-01   8.80314e-01 ; 1.72  0.2104\n",
      " ICT_ho       ICT_ho          0.00000  0.00000   A     0.00000e+00   0.00000e+00 ; 0.00  0.0000\n",
      "\n"
     ]
    }
   ],
   "source": [
    "print(ict.itp[:572])"
   ]
  },
  {
   "cell_type": "markdown",
   "metadata": {},
   "source": [
    "And finally, the ligand can be added to the protein just like in the dtandard ligand case."
   ]
  },
  {
   "cell_type": "code",
   "execution_count": 9,
   "metadata": {},
   "outputs": [
    {
     "name": "stdout",
     "output_type": "stream",
     "text": [
      "Adding non standard ligand ICT to Test_Protein..\n"
     ]
    }
   ],
   "source": [
    "prt.addLigand(ict)"
   ]
  },
  {
   "cell_type": "markdown",
   "metadata": {},
   "source": [
    "## Preparing the System Topology\n",
    "\n",
    "Once the protein and ligands are loaded, we can preapre the system for classical MD. At this point, we can choose to start execution on the remote server, which has Gromacs and CPMD installed."
   ]
  },
  {
   "cell_type": "code",
   "execution_count": 10,
   "metadata": {},
   "outputs": [
    {
     "name": "stdout",
     "output_type": "stream",
     "text": [
      "Setting remote machine claix16 as host..\n",
      "Setting current directory to test_..\n"
     ]
    }
   ],
   "source": [
    "mimicpy.setHost('claix16:tests', 'source gromacs.sh')\n",
    "mimicpy.setEnv(gmx='gmx_mpi')"
   ]
  },
  {
   "cell_type": "markdown",
   "metadata": {},
   "source": [
    "To start preparation, we have to create the `prepare.MM` handle. Handles are explained more in-depth in the next tutorial, but in brief they control the execution of Gromacs/CPMD/MiMiC jobs. The `prepare.MM` handle can be used to prepare a system for classical MD, and is the first set towards running a MiMiC simulation."
   ]
  },
  {
   "cell_type": "code",
   "execution_count": 11,
   "metadata": {},
   "outputs": [
    {
     "name": "stdout",
     "output_type": "stream",
     "text": [
      "Attaching protein 3INM_fixed..\n",
      "Preparing protein topology..\n",
      "Writing 3INM_fixed pdb to confin.pdb..\n",
      "Reading histidine protonation states from list..\n",
      "Running Gromacs pdb2gmx..\n",
      "Adding non-standard residues to structure..\n",
      "Combining ligands topology into single file ligands.itp..\n",
      "Writing position restraint file for ICT\n",
      "ligands.itp added to topol.top\n",
      "Topology prepared..\n",
      "Saving session to _status.yaml\n"
     ]
    }
   ],
   "source": [
    "prep = mimicpy.prepare.MM()\n",
    "prep.getTopology(prt)"
   ]
  },
  {
   "cell_type": "markdown",
   "metadata": {},
   "source": [
    "The `getTopology()` function generates the topology of the total system. It does the following steps:\n",
    "- Executes gromacs pdb2gmx on the pure protein (+standard residues) to get the pure protein topology\n",
    "- Adds the non-standard ligand pdbs and topologies to the protein in the right order\n",
    "- Writes the position restratint file\n",
    "- Writes a mimicpy topology file (for more details refer Tutorial 4)\n",
    "\n",
    "The function takes the protein (with all ligands added) as input. Custom parameters for pdb2gmx can be set calling the `topolParams()` function. For more details, refer the documentation.\n",
    "\n",
    "The next step is to prepare the simulation box. This is done by calling the `prepareBox()` function."
   ]
  },
  {
   "cell_type": "code",
   "execution_count": 12,
   "metadata": {},
   "outputs": [
    {
     "name": "stdout",
     "output_type": "stream",
     "text": [
      "Preparing system box..\n",
      "Solavting protein..\n",
      "Running Gromacs editconf..\n",
      "Running Gromacs solvate..\n",
      "WARNING: Masses and atomic (Van der Waals) radii will be guessed\n",
      "         based on residue and atom names, since they could not be\n",
      "         definitively assigned from the information in your input\n",
      "         files. These guessed numbers might deviate from the mass\n",
      "         and radius of the atom type. Please check the output\n",
      "         files if necessary.\n",
      "Adding ions to neutralize charge..\n",
      "Running Gromacs grompp..\n",
      "NOTE 1 [file ions.mdp]:\n",
      "  You are using a plain Coulomb cut-off, which might produce artifacts.\n",
      "  You might want to consider using PME electrostatics.\n",
      "Running Gromacs genion..\n",
      "Simulation box prepared..\n",
      "Saving session to _status.yaml\n"
     ]
    }
   ],
   "source": [
    "prep.setIons(pname='NA', nname='CL', neutral='')\n",
    "prep.prepareBox()\n",
    "mimicpy.closeHost()"
   ]
  },
  {
   "cell_type": "markdown",
   "metadata": {},
   "source": [
    "This function does the following steps:\n",
    "- Executes gromacs editconf to resize the box\n",
    "- Executes gromacs solvate to add waters to the sytem\n",
    "- Executes genion to add ions to the system\n",
    "\n",
    "The parameters for each can be set calling `boxParams()`, `solavteParams()`, and `ionParams()`."
   ]
  }
 ],
 "metadata": {
  "kernelspec": {
   "display_name": "Python 3",
   "language": "python",
   "name": "python3"
  },
  "language_info": {
   "codemirror_mode": {
    "name": "ipython",
    "version": 3
   },
   "file_extension": ".py",
   "mimetype": "text/x-python",
   "name": "python",
   "nbconvert_exporter": "python",
   "pygments_lexer": "ipython3",
   "version": "3.7.4"
  }
 },
 "nbformat": 4,
 "nbformat_minor": 2
}
