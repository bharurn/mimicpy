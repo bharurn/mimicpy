{
 "cells": [
  {
   "cell_type": "markdown",
   "metadata": {},
   "source": [
    "# Tutorial 3: Handles and Running MD\n",
    "\n",
    "MiMiCPy is a python wrapper for preparing and executing MiMiC runs. For details on installation and compatibility, please refer to https://github.com/bharurn/mimicpy.\n",
    "\n",
    "This is the third tutorial on how to get MiMiCPy running, and introduces the concept of handles and dealing with running MD simulations. Please refer to the previous tutorial on setting up the system and topology before reading this.\n",
    "\n",
    "## Introduction to Handles\n",
    "\n",
    "Handles are classes that control the execution of Gromacs and CPMD simulations, and work on top of the host. There are four, controlling four main steps required for executing a MiMiC simulation:\n",
    "- `mimicpy.prepare.MM`: Controls the generation of the Gromacs topology, and simulation box.\n",
    "- `mimicpy.simulate.MD`: Controls the execution of classical MD simulations using Gromacs.\n",
    "- `mimicpy.prepare.QM`: Control the creation of the QM region and generation of the CPMD input script.\n",
    "- `mimicpy.simulate.MiMiC`: Controls the execution of MiMiC simulations (runs both Gromacs and CPMD).\n",
    "\n",
    "An object of these handles are created each time its functionality needs to be used. Apart from the specific functionality of each handle, all four have the following common features:\n",
    "- Run Gromacs commands using the `gmx()` function.\n",
    "- Run CPMD commands using the `cpmd()` function.\n",
    "- Maintains a log of the standard ouput/error from all the above commands, can be accessed using the `log` parameter. This is usefull for debugging the runs.\n",
    "- Maintains a `_status` variable, containing information of all the runs so far.\n",
    "\n",
    "## MD Simulation Handle\n",
    "\n",
    "### Loading the Handle\n",
    "\n",
    "MD simulations are controlled by the `simulate.MD` handle."
   ]
  },
  {
   "cell_type": "code",
   "execution_count": 1,
   "metadata": {},
   "outputs": [],
   "source": [
    "import mimicpy\n",
    "md = mimicpy.simulate.MD()"
   ]
  },
  {
   "cell_type": "markdown",
   "metadata": {},
   "source": [
    "This will start a new `simulate.MD` object with no status information. However, often this is not what we need as we need the handle to have information on the previously generated topology files. For this we can call the `continueFrom()`, passing the `prepare.MM` object if it is available in memory."
   ]
  },
  {
   "cell_type": "code",
   "execution_count": 2,
   "metadata": {},
   "outputs": [],
   "source": [
    "md = mimicpy.simulate.MD.continueFrom(prep)"
   ]
  },
  {
   "cell_type": "markdown",
   "metadata": {},
   "source": [
    "If the `prepare.MM` object is not available in memory (becuase you are running MD after closing the script used to generate the topologies), then the `simulate.MD` object can be loaded from the `_status.yaml` file stored in the working directory."
   ]
  },
  {
   "cell_type": "code",
   "execution_count": 3,
   "metadata": {},
   "outputs": [
    {
     "name": "stdout",
     "output_type": "stream",
     "text": [
      "Loading status from _status.yaml..\n"
     ]
    }
   ],
   "source": [
    "md = mimicpy.simulate.MD.fromYaml()"
   ]
  },
  {
   "cell_type": "markdown",
   "metadata": {},
   "source": [
    "The yaml file is automatically written by every handle each time a new files are generated. This file keeps track of the current topology, tpr, gro, trr, etc. so that a new run can be easily started. The above explained loading procedure is applicable to all four handles.\n",
    "\n",
    "### MDP Scripts\n",
    "\n",
    "To run a Gromacs simulation, we need to create an MDP script. MiMiCPy provides an efficient way for dealing with scripts. A script has the following characteristic:\n",
    "- Each parameter can be set using the dot operator. For example., if mdp is an MDP script object then `mdp.dt = 0.002` will set the dt parameter in the MDP script.\n",
    "- A parameter can be unset by setting it to `None`. For example., `mdp.tcouple = None` will cause the tcouple option to be ignored.\n",
    "- Use `_` to represent a `-` in the parameter name. For example, `mdp.cutoff_scheme` will be translated to `cutoff-scheme` in actual script file.\n",
    "    - Additionally, for CPMD scripts (see next tutorial), a space is represented by a `__`. For example, `annealing__ions` will be translated to `ANNEALING IONS` in the CPMD input file.\n",
    "- To view the full script, just convert it into a str, by calling `str()` or print it with `print()`.\n",
    "\n",
    "A new MDP script can be created by calling the class constructor."
   ]
  },
  {
   "cell_type": "code",
   "execution_count": 4,
   "metadata": {},
   "outputs": [],
   "source": [
    "mdp = mimicpy.scripts.MDP(name='Test MDP')"
   ]
  },
  {
   "cell_type": "markdown",
   "metadata": {},
   "source": [
    "Default scripts for energy minimization, NVT, NPT and productionr runs are provided. These can be accessed as shown below."
   ]
  },
  {
   "cell_type": "code",
   "execution_count": 5,
   "metadata": {},
   "outputs": [
    {
     "name": "stdout",
     "output_type": "stream",
     "text": [
      "; Gromacs MD parameters for test_script generated by MiMiCPy\n",
      "integrator = steep\n",
      "emtol = 1000.0\n",
      "emstep = 0.01\n",
      "nstlog = 50\n",
      "nsteps = 200\n",
      "nstlist = 10\n",
      "cutoff-scheme = Verlet\n",
      "ns-type = grid\n",
      "coulombtype = PME\n",
      "rcoulomb = 1.0\n",
      "rvdw = 1.0\n",
      "pbc = xyz\n",
      "\n"
     ]
    }
   ],
   "source": [
    "em = mimicpy.scripts.MDP.defaultEM()\n",
    "nvt = mimicpy.scripts.MDP.defaultNVT()\n",
    "npt = mimicpy.scripts.MDP.defaultNPT()\n",
    "production = mimicpy.scripts.MDP.defaultPRD()\n",
    "em.name = 'test_script'\n",
    "em.nsteps = 200\n",
    "print(em)"
   ]
  },
  {
   "cell_type": "markdown",
   "metadata": {},
   "source": [
    "### Running MD Simulations\n",
    "\n",
    "Running md simulation are as simple as calling the `run()` function of the `simulate.MD` handle. The MDP script is passed."
   ]
  },
  {
   "cell_type": "code",
   "execution_count": 6,
   "metadata": {},
   "outputs": [
    {
     "name": "stdout",
     "output_type": "stream",
     "text": [
      "Starting classical MD calculation: test_script..\n",
      "All files will be saved to the directory test_script..\n",
      "Gromacs simulation is now running as a background job..\n"
     ]
    }
   ],
   "source": [
    "md.run(em)"
   ]
  },
  {
   "cell_type": "markdown",
   "metadata": {},
   "source": [
    "This creates an MDP file, runs Gromacs grompp and then mdrun. All files are saved to a new directory, created with the name of the mdp file `em.name`.\n",
    "The above command will only run the simulation on the current node. If you want to run it as a Slurm job, a Slurm jobscript must be set. Creating a jobscript is similar to the creating an MDP script."
   ]
  },
  {
   "cell_type": "code",
   "execution_count": 7,
   "metadata": {},
   "outputs": [
    {
     "name": "stdout",
     "output_type": "stream",
     "text": [
      "#!/bin/zsh\n",
      "#SBATCH --time=00:20:00\n",
      "#SBATCH --cpus-per-node=3\n",
      "#SBATCH --ntasks=16\n",
      "#SBATCH --job-name=test_md\n",
      "#SBATCH --output=test_md.%J.out\n",
      "\n",
      "\n"
     ]
    }
   ],
   "source": [
    "jbs = mimicpy.scripts.Slurm(shebang='/bin/zsh', name='test_md', time='00:20:00', cpus_per_node=3)\n",
    "jbs.ntasks = 16\n",
    "print(jbs)"
   ]
  },
  {
   "cell_type": "markdown",
   "metadata": {},
   "source": [
    "The paramters can be set in the constructor or by the dot operator. This jobscript is then set to the `simulate.MD` object by calling the `setSlurmSettings()` function. Executing `run()` subsequently, will submit the run as a Slurm job."
   ]
  },
  {
   "cell_type": "code",
   "execution_count": 8,
   "metadata": {},
   "outputs": [
    {
     "name": "stdout",
     "output_type": "stream",
     "text": [
      "Setting Slurm job settings from jobscript test_md..\n",
      "Gromacs simulations submmitted as a Slurm job test_md.sh with the job ID 132845..\n",
      "The host and/or this script can be safely closed..\n"
     ]
    }
   ],
   "source": [
    "md.setSlurmSettings(jbs)\n",
    "md.run(em)"
   ]
  }
 ],
 "metadata": {
  "kernelspec": {
   "display_name": "Python 3",
   "language": "python",
   "name": "python3"
  },
  "language_info": {
   "codemirror_mode": {
    "name": "ipython",
    "version": 3
   },
   "file_extension": ".py",
   "mimetype": "text/x-python",
   "name": "python",
   "nbconvert_exporter": "python",
   "pygments_lexer": "ipython3",
   "version": "3.7.4"
  }
 },
 "nbformat": 4,
 "nbformat_minor": 2
}
