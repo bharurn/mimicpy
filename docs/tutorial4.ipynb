{
 "cells": [
  {
   "cell_type": "markdown",
   "metadata": {},
   "source": [
    "# Tutorial 4: Preparing QM Input & Running MiMiC\n",
    "\n",
    "MiMiCPy is a python wrapper for preparing and executing MiMiC runs. For details on installation and compatibility, please refer to https://github.com/bharurn/mimicpy.\n",
    "\n",
    "This is the fourth tutorial on how get MiMiCPy running, and deals with setting up the QM system and submitting MiMiC runs. Please refer to the previous tutorial on setting up and running classical MD simulation before reading this.\n",
    "\n",
    "## QM Input Preparation\n",
    "\n",
    "Once the system is classically minimized and equilibriated, we can start preparing the QM region. As mentioned briefly in the previous tutorial, this will require us to to use the `prepare.QM` handle. The `prepare.QM` is loaded from the saved yaml file in the working directory."
   ]
  },
  {
   "cell_type": "code",
   "execution_count": 1,
   "metadata": {
    "scrolled": true
   },
   "outputs": [
    {
     "name": "stdout",
     "output_type": "stream",
     "text": [
      "Setting remote machine server1 as host..\n",
      "Setting current directory to tests..\n",
      "Loading session from _status.yaml..\n",
      "Reading topology from /home/user/tests/prepareMM/topol.mpt..\n",
      "Combining with latest coordinates data from /home/user/tests/em/em.gro..\n"
     ]
    }
   ],
   "source": [
    "import mimicpy\n",
    "mimicpy.setEnv(gmx='gmx_mpi')\n",
    "mimicpy.setHost('server1:tests', 'source mimic.sh')\n",
    "qm = mimicpy.prepare.QM.fromYaml()"
   ]
  },
  {
   "cell_type": "markdown",
   "metadata": {},
   "source": [
    "The `prepare.QM` constructor looks for a mimicpy topology or mpt file in the folder created by `prepare.MM` (called `prepareMM` in this case). This was created when `prepare.MM.getTopology()` was called on the system. An mpt file is nothing but a Pandas dataframe stored using the Python \"pickle\" binary serializing protocol. It has data on the atom name, atom serial no., chain ID, etc. of each atom in the system. This format allows for the fast retrival of topology information (faster than the Gromacs TPR format). This topology is combined with the latest gro file, to get coordinate infomation.\n",
    "\n",
    "### Adding Atoms to the QM Region\n",
    "\n",
    "Before the QM input can be prepared, we have to tell MiMiCPy what atoms we wish to add to the QM region. This is done using the `add()` function of the `prepare.QM` handle. A special selection string is passed to efficiently select many atoms at once. This selection string has a language similar to molecular visualization softwares like VMD and PyMol."
   ]
  },
  {
   "cell_type": "code",
   "execution_count": 2,
   "metadata": {},
   "outputs": [
    {
     "data": {
      "text/html": [
       "<div>\n",
       "<style scoped>\n",
       "    .dataframe tbody tr th:only-of-type {\n",
       "        vertical-align: middle;\n",
       "    }\n",
       "\n",
       "    .dataframe tbody tr th {\n",
       "        vertical-align: top;\n",
       "    }\n",
       "\n",
       "    .dataframe thead th {\n",
       "        text-align: right;\n",
       "    }\n",
       "</style>\n",
       "<table border=\"1\" class=\"dataframe\">\n",
       "  <thead>\n",
       "    <tr style=\"text-align: right;\">\n",
       "      <th></th>\n",
       "      <th>name</th>\n",
       "      <th>resName</th>\n",
       "      <th>link</th>\n",
       "      <th>chainID</th>\n",
       "      <th>element</th>\n",
       "      <th>x</th>\n",
       "      <th>y</th>\n",
       "      <th>z</th>\n",
       "    </tr>\n",
       "    <tr>\n",
       "      <th>number</th>\n",
       "      <th></th>\n",
       "      <th></th>\n",
       "      <th></th>\n",
       "      <th></th>\n",
       "      <th></th>\n",
       "      <th></th>\n",
       "      <th></th>\n",
       "      <th></th>\n",
       "    </tr>\n",
       "  </thead>\n",
       "  <tbody>\n",
       "    <tr>\n",
       "      <td>20</td>\n",
       "      <td>N</td>\n",
       "      <td>SER</td>\n",
       "      <td>0</td>\n",
       "      <td>A</td>\n",
       "      <td>N</td>\n",
       "      <td>11.270</td>\n",
       "      <td>7.946</td>\n",
       "      <td>6.063</td>\n",
       "    </tr>\n",
       "    <tr>\n",
       "      <td>21</td>\n",
       "      <td>H</td>\n",
       "      <td>SER</td>\n",
       "      <td>0</td>\n",
       "      <td>A</td>\n",
       "      <td></td>\n",
       "      <td>11.188</td>\n",
       "      <td>7.894</td>\n",
       "      <td>6.090</td>\n",
       "    </tr>\n",
       "    <tr>\n",
       "      <td>22</td>\n",
       "      <td>CA</td>\n",
       "      <td>SER</td>\n",
       "      <td>0</td>\n",
       "      <td>A</td>\n",
       "      <td>C</td>\n",
       "      <td>11.387</td>\n",
       "      <td>7.864</td>\n",
       "      <td>6.024</td>\n",
       "    </tr>\n",
       "    <tr>\n",
       "      <td>23</td>\n",
       "      <td>HA</td>\n",
       "      <td>SER</td>\n",
       "      <td>0</td>\n",
       "      <td>A</td>\n",
       "      <td></td>\n",
       "      <td>11.471</td>\n",
       "      <td>7.930</td>\n",
       "      <td>6.004</td>\n",
       "    </tr>\n",
       "    <tr>\n",
       "      <td>24</td>\n",
       "      <td>CB</td>\n",
       "      <td>SER</td>\n",
       "      <td>0</td>\n",
       "      <td>A</td>\n",
       "      <td>C</td>\n",
       "      <td>11.433</td>\n",
       "      <td>7.771</td>\n",
       "      <td>6.137</td>\n",
       "    </tr>\n",
       "  </tbody>\n",
       "</table>\n",
       "</div>"
      ],
      "text/plain": [
       "       name resName  link chainID element       x      y      z\n",
       "number                                                         \n",
       "20        N     SER     0       A       N  11.270  7.946  6.063\n",
       "21        H     SER     0       A          11.188  7.894  6.090\n",
       "22       CA     SER     0       A       C  11.387  7.864  6.024\n",
       "23       HA     SER     0       A          11.471  7.930  6.004\n",
       "24       CB     SER     0       A       C  11.433  7.771  6.137"
      ]
     },
     "execution_count": 2,
     "metadata": {},
     "output_type": "execute_result"
    }
   ],
   "source": [
    "qm.add('resName is SER and number < 25 and chainID not B')\n",
    "qm.qmatoms"
   ]
  },
  {
   "cell_type": "markdown",
   "metadata": {},
   "source": [
    "The following is a brief summary of the selection langauge:\n",
    "\n",
    "- Each selection is a set of three words\n",
    "- The first word is selection name. It can be any of the following:\n",
    "    - number, name, resName, chainID, element, x, y, z\n",
    "- The second word is an operator. It can be any of the following:\n",
    "    - is (for equality), <, >, >=, <=, not (for negeation)\n",
    "- The third is the actual value to match the selection with. It can be an integer, float or string depending on the selection name.\n",
    "- Any number of selection sets can be strung together with the 'and' or 'or' logical operators.\n",
    "\n",
    "The `add()` can be called any number of times before the `getInp()` is called to generate the input script.\n",
    "\n",
    "#### Link Atoms\n",
    "\n",
    "If the QM-MM interface cuts across covalent bonds, then link atoms would need to be specified. Please refer to the CPMD manual for more details on this. To inform MiMiCPy that the atoms being added are in link atoms, all you need to do is pass the `link=True` flag when adding atoms; for example, `qm.add('name CA', link=True)` will add all C-alpha carbons as link atoms.\n",
    "\n",
    "### Generate the QM Input Script\n",
    "\n",
    "Now we are ready to prepare the QM input script. For this we use the `getInp()` function of the `prepaare.QM` handle. It takes a Gromacs MDP script as input. This will be used to generated the Gromacs TPR file that will serve as the run file for the MiMiC run. `getInp()` sets the `MAXSTEPS` and `TIMESTEP` parameters in CPMD QM input script from the `nsteps` and `dt` parameters of the mdp script."
   ]
  },
  {
   "cell_type": "code",
   "execution_count": 3,
   "metadata": {},
   "outputs": [
    {
     "name": "stdout",
     "output_type": "stream",
     "text": [
      "Changing Gromacs integrator to MiMiC..\n",
      "Writing atoms in QM region to index.ndx..\n",
      "Generating Gromacs tpr file for MiMiC run..\n",
      "Running gmx_mpi -quiet grompp -f mimic.mdp -c /home/users/tests/em/em.gro -p /home/users/tests/prepareMM/topol.top -o mimic.tpr -pp processed.top -n index.ndx..\n",
      "Reading force field data to fill in charges and missing atomic symbol information..\n",
      "Creating CPMD input script..\n",
      "Saving status to _status.yaml..\n"
     ]
    },
    {
     "data": {
      "text/plain": [
       "<mimicpy.utils.scripts.cpmd.Input at 0x11c0c7250>"
      ]
     },
     "execution_count": 3,
     "metadata": {},
     "output_type": "execute_result"
    }
   ],
   "source": [
    "test = mimicpy.utils.scripts.mdp.MDP.defaultEM()\n",
    "test.dt = 0.0001\n",
    "test.nsteps = 50000\n",
    "qm.getInp(test)"
   ]
  },
  {
   "cell_type": "markdown",
   "metadata": {},
   "source": [
    "The `getInp()` function performs the following actions:\n",
    "- Writes all atoms added to the QM region to an index file, and feeds it to Gromacs\n",
    "- Generates the TPR file for the MiMiC run, using coordinate data from the latest coordinate file\n",
    "- A preprocessed topology is also generated, which contains all the information about the force field parameters. This is used to calculate the total charge of the QM region, and also fill in the atomic numbers for which information was not available in the input PDB.\n",
    "- The `ATOM` section of the CPMD QM input script is generated, as well as the `MIMIC`, `CPMD`, and `SYSTEM` sections.\n",
    "\n",
    "The generated script is returned by the function. It is also accesible by the `inp` property of the `prepare.QM` object. As with other scripts, the contents can be seen by converting the object into a string."
   ]
  },
  {
   "cell_type": "code",
   "execution_count": 4,
   "metadata": {},
   "outputs": [
    {
     "name": "stdout",
     "output_type": "stream",
     "text": [
      "\n",
      "&INFO\n",
      "MiMiC Run\n",
      "&END\n",
      "\n",
      "&MIMIC\n",
      "PATHS\n",
      "1\n",
      "---\n",
      "BOX\n",
      "270.2385837210658  270.2385837210658  270.2385837210658\n",
      "OVERLAPS\n",
      "5\n",
      "2 22 1 1\n",
      "2 24 1 2\n",
      "2 21 1 3\n",
      "2 23 1 4\n",
      "2 20 1 5\n",
      "&END\n",
      "\n",
      "&SYSTEM\n",
      "CELL\n",
      "17  0.88  0.83\n",
      "CHARGE\n",
      "0.7\n",
      "&END\n",
      "\n",
      "&CPMD\n",
      "MIMIC\n",
      "PARALLEL CONSTRAINTS\n",
      "MAXSTEPS\n",
      "50000\n",
      "TIMESTEP\n",
      "4\n",
      "&END\n",
      "\n",
      "&ATOMS\n",
      "*C_MT_BLYP\n",
      "   LMAX=P\n",
      "    2\n",
      "  215.18311382902846   148.60806245292702   113.83710175692171\n",
      "  216.0523878464286   146.8506171568789   115.97249227792636\n",
      "\n",
      "*H_MT_BLYP\n",
      "   LMAX=P\n",
      "    2\n",
      "  211.4225588407105   149.17498029036187   115.08432099927842\n",
      "  216.7704837738461   149.8552816952837   113.45915653196512\n",
      "\n",
      "*N_MT_BLYP\n",
      "   LMAX=P\n",
      "    1\n",
      "  212.97213426303247   150.15763787524898   114.57409494558703\n",
      "\n",
      "&END\n",
      "\n"
     ]
    }
   ],
   "source": [
    "print(qm.inp)"
   ]
  },
  {
   "cell_type": "markdown",
   "metadata": {},
   "source": [
    "The most important section of the script are generated by the `getInp()` function. However, other options specific to the your particular MiMiC run have to be set by you. This can be easily done. For example, to set the temperate run `inp.cpmd.temperature = 300` or to set the poission solver tuckerman option run `inp.system.poission__solver__tuckerman = ''`. For more information on how to change the CPMD script parameters, refer to the tutorial on scripts.\n",
    "\n",
    "## Running MiMiC\n",
    "\n",
    "Now we are ready to run a MiMiC simulation. We can run it on the current node. However, it is recommended to use Slurm to run MiMiC jobs. So, first we create a jobscript. In this case, we load a previous jobscript."
   ]
  },
  {
   "cell_type": "code",
   "execution_count": 5,
   "metadata": {},
   "outputs": [],
   "source": [
    "jbs = mimicpy.scripts.Slurm.loadFromFile('jobscript.sh')"
   ]
  },
  {
   "cell_type": "markdown",
   "metadata": {},
   "source": [
    "And change a few parameters."
   ]
  },
  {
   "cell_type": "code",
   "execution_count": 6,
   "metadata": {},
   "outputs": [
    {
     "name": "stdout",
     "output_type": "stream",
     "text": [
      "#!/bin/bash -x\n",
      "#SBATCH --nodes=3\n",
      "#SBATCH --cpus-per-task=4\n",
      "#SBATCH --error=mpi_err.%j\n",
      "#SBATCH --time=01:00:00\n",
      "#SBATCH --partition=batch\n",
      "#SBATCH --account=TEST\n",
      "#SBATCH --job-name=jobscript\n",
      "#SBATCH --output=jobscript.%J.out\n",
      "\n",
      "\n"
     ]
    }
   ],
   "source": [
    "jbs.clearCommands()\n",
    "jbs.time = '01:00:00'\n",
    "jbs.account = \"TEST\"\n",
    "print(jbs)"
   ]
  },
  {
   "cell_type": "markdown",
   "metadata": {},
   "source": [
    "Then we create a `simulate.MiMiC` handle, continuing from the previous QM handle. We also set its jobscript settings using the jobscript we loaded above."
   ]
  },
  {
   "cell_type": "code",
   "execution_count": 7,
   "metadata": {},
   "outputs": [
    {
     "name": "stdout",
     "output_type": "stream",
     "text": [
      "Setting Slurm job settings from jobscript jobscript..\n",
      "Transferring sources, modules and other header commands from host to job script..\n"
     ]
    },
    {
     "data": {
      "text/plain": [
       "<mimicpy.utils.scripts.slurm.Slurm at 0x10afc7b50>"
      ]
     },
     "execution_count": 7,
     "metadata": {},
     "output_type": "execute_result"
    }
   ],
   "source": [
    "mimic = mimicpy.simulate.MiMiC.continueFrom(qm)\n",
    "mimic.setSlurmSettings(jbs)"
   ]
  },
  {
   "cell_type": "markdown",
   "metadata": {},
   "source": [
    "MiMiC requires both Gromacs and CPMD to run parallel. For efficient execution, we need to specificy the settings for each run explicitly. This can be done as shown below"
   ]
  },
  {
   "cell_type": "code",
   "execution_count": 8,
   "metadata": {},
   "outputs": [],
   "source": [
    "mimic.setGMXSettings(N=1, ntasks_per_node=6, cpus_per_task=4, r=0)\n",
    "mimic.setCPMDSettings(N=2, ntasks_per_node=6, cpus_per_task=4, r=0)"
   ]
  },
  {
   "cell_type": "markdown",
   "metadata": {},
   "source": [
    "The CPMD pseudopotential path is set, and then we call the `run()` function to start the MiMiC run."
   ]
  },
  {
   "cell_type": "code",
   "execution_count": 9,
   "metadata": {},
   "outputs": [
    {
     "name": "stdout",
     "output_type": "stream",
     "text": [
      "MiMiC run submmitted as a Slurm job jobscript.sh with the job ID 1382412..\n",
      "The host and/or this script can be safely closed.."
     ]
    }
   ],
   "source": [
    "mimicpy.setExec(cpmd_pp='/bin/CPMD/PP')\n",
    "mimic.run(qm.inp)\n",
    "mimicpy.closeHost()"
   ]
  }
 ],
 "metadata": {
  "kernelspec": {
   "display_name": "Python 3",
   "language": "python",
   "name": "python3"
  },
  "language_info": {
   "codemirror_mode": {
    "name": "ipython",
    "version": 3
   },
   "file_extension": ".py",
   "mimetype": "text/x-python",
   "name": "python",
   "nbconvert_exporter": "python",
   "pygments_lexer": "ipython3",
   "version": "3.7.4"
  }
 },
 "nbformat": 4,
 "nbformat_minor": 2
}
